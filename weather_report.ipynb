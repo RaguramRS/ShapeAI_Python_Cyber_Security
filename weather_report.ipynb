{
  "nbformat": 4,
  "nbformat_minor": 0,
  "metadata": {
    "colab": {
      "name": "weather_report.ipynb",
      "provenance": [],
      "collapsed_sections": []
    },
    "kernelspec": {
      "name": "python3",
      "display_name": "Python 3"
    },
    "language_info": {
      "name": "python"
    }
  },
  "cells": [
    {
      "cell_type": "code",
      "metadata": {
        "colab": {
          "base_uri": "https://localhost:8080/"
        },
        "id": "fTwVsVDGI-Mv",
        "outputId": "38602343-db6a-45b8-8b37-78778b408599"
      },
      "source": [
        "import requests\n",
        "from datetime import datetime\n",
        "\n",
        "api_key='2b34cf7c2359222d53cada8da3b3a40b'\n",
        "location=input(\"Enter the city name: \")\n",
        "\n",
        "complete_api_link=\"https://api.openweathermap.org/data/2.5/weather?q=\"+location+\"&appid=\"+api_key\n",
        "api_link=requests.get(complete_api_link)\n",
        "api_data=api_link.json()\n",
        "\n",
        "temp_city=((api_data['main']['temp'])-273.15) \n",
        "weather_desc=api_data['weather'][0]['description'] \n",
        "hmdt=api_data['main']['humidity'] \n",
        "wind_spd=api_data['wind']['speed']\n",
        "date_time=datetime.now().strftime(\"%d %b %Y | %I:%M:%S %p\")\n",
        "\n",
        "f=open(\"demofile.txt\",\"w\")\n",
        "\n",
        "f.write(\"-\"*100)\n",
        "f.write(\"\\n\")\n",
        "f.write(\"Weather Stats for - {} || {}\\n\".format(location.upper(),date_time))\n",
        "f.write(\"-\"*100)\n",
        "f.write(\"\\n\\n\")\n",
        "\n",
        "f.write(\"Current temperature is : {:.2f} deg C\\n\".format(temp_city))\n",
        "f.write(\"Current weather desc   : {}\\n\".format(weather_desc))\n",
        "f.write(\"Current Humidity       : {} %\\n\".format(hmdt))\n",
        "f.write(\"Current wind speed     : {} kmph\".format(wind_spd))\n",
        "f.write(\"\\n\")\n",
        "\n",
        "f.close()\n",
        "\n",
        "f=open(\"demofile.txt\",\"r\")\n",
        "print(f.read())\n",
        "f.close()"
      ],
      "execution_count": 13,
      "outputs": [
        {
          "output_type": "stream",
          "text": [
            "Enter the city name: kochi\n",
            "----------------------------------------------------------------------------------------------------\n",
            "Weather Stats for - KOCHI || 23 Jun 2021 | 10:11:38 AM\n",
            "----------------------------------------------------------------------------------------------------\n",
            "\n",
            "Current temperature is : 29.99 deg C\n",
            "Current weather desc   : overcast clouds\n",
            "Current Humidity       : 79 %\n",
            "Current wind speed     : 4.36 kmph\n",
            "\n"
          ],
          "name": "stdout"
        }
      ]
    }
  ]
}